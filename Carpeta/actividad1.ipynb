{
 "cells": [
  {
   "cell_type": "code",
   "execution_count": 2,
   "id": "3710c2b9-08f2-4bd6-b84b-28ad3fae5318",
   "metadata": {
    "tags": []
   },
   "outputs": [
    {
     "name": "stdout",
     "output_type": "stream",
     "text": [
      "Master actividad 1\n"
     ]
    }
   ],
   "source": [
    "print (\"Master actividad 1\")"
   ]
  },
  {
   "cell_type": "code",
   "execution_count": null,
   "id": "4cc260c3-871b-4d55-aa89-6dce1c74e53b",
   "metadata": {},
   "outputs": [],
   "source": []
  }
 ],
 "metadata": {
  "kernelspec": {
   "display_name": "Python 3 (ipykernel)",
   "language": "python",
   "name": "python3"
  },
  "language_info": {
   "codemirror_mode": {
    "name": "ipython",
    "version": 3
   },
   "file_extension": ".py",
   "mimetype": "text/x-python",
   "name": "python",
   "nbconvert_exporter": "python",
   "pygments_lexer": "ipython3",
   "version": "3.10.10"
  }
 },
 "nbformat": 4,
 "nbformat_minor": 5
}
