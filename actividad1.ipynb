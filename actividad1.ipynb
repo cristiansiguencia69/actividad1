{
 "cells": [
  {
   "cell_type": "code",
   "execution_count": 1,
   "id": "11d5dfb1-bc71-4226-9f21-4aef2e5ec15a",
   "metadata": {},
   "outputs": [
    {
     "name": "stdout",
     "output_type": "stream",
     "text": [
      "activiadad maestria 1\n"
     ]
    }
   ],
   "source": [
    "print(\"activiadad maestria 1\")\n"
   ]
  },
  {
   "cell_type": "code",
   "execution_count": null,
   "id": "fa8335a8-7d62-427f-ab60-b35c98062a0e",
   "metadata": {},
   "outputs": [],
   "source": []
  }
 ],
 "metadata": {
  "kernelspec": {
   "display_name": "Python 3 (ipykernel)",
   "language": "python",
   "name": "python3"
  },
  "language_info": {
   "codemirror_mode": {
    "name": "ipython",
    "version": 3
   },
   "file_extension": ".py",
   "mimetype": "text/x-python",
   "name": "python",
   "nbconvert_exporter": "python",
   "pygments_lexer": "ipython3",
   "version": "3.10.10"
  }
 },
 "nbformat": 4,
 "nbformat_minor": 5
}
